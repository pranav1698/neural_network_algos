{
 "cells": [
  {
   "cell_type": "code",
   "execution_count": 22,
   "metadata": {},
   "outputs": [],
   "source": [
    "import numpy as np"
   ]
  },
  {
   "cell_type": "code",
   "execution_count": 58,
   "metadata": {},
   "outputs": [],
   "source": [
    "def NN(X, W, clusters, learning_rate):\n",
    "    m = len(X)\n",
    "    \n",
    "    for i  in range(m):\n",
    "        n = len(X[i])\n",
    "        minimum_distance = 100000\n",
    "        closest_neuron = 0\n",
    "        \n",
    "        for c in range(clusters):\n",
    "            distance = 0\n",
    "            \n",
    "            for j in range(n):\n",
    "                distance += pow((W.T[c][j] - X[i][j]), 2)\n",
    "            \n",
    "            if(distance < minimum_distance):\n",
    "                minimum_distance = distance\n",
    "                closest_neuron = c\n",
    "        \n",
    "        del_w = learning_rate * (X[i] - W.T[closest_neuron])\n",
    "        W.T[closest_neuron] += del_w"
   ]
  },
  {
   "cell_type": "code",
   "execution_count": 59,
   "metadata": {},
   "outputs": [],
   "source": [
    "X = np.array([[0, 0, 1, 1], [1, 0, 0, 0], [0, 1, 1, 0], [0, 0, 0, 1]])"
   ]
  },
  {
   "cell_type": "code",
   "execution_count": 60,
   "metadata": {},
   "outputs": [],
   "source": [
    "W = np.array([[0.2, 0.9], [0.4, 0.7], [0.6, 0.5], [0.8, 0.3]])"
   ]
  },
  {
   "cell_type": "code",
   "execution_count": 61,
   "metadata": {},
   "outputs": [],
   "source": [
    "clusters = 2\n",
    "learning_rate = 0.5"
   ]
  },
  {
   "cell_type": "code",
   "execution_count": 62,
   "metadata": {},
   "outputs": [],
   "source": [
    "NN(X, W, clusters, learning_rate)"
   ]
  },
  {
   "cell_type": "code",
   "execution_count": 63,
   "metadata": {},
   "outputs": [
    {
     "name": "stdout",
     "output_type": "stream",
     "text": [
      "[[0.025 0.95 ]\n",
      " [0.3   0.35 ]\n",
      " [0.45  0.25 ]\n",
      " [0.725 0.15 ]]\n"
     ]
    }
   ],
   "source": [
    "print(W)"
   ]
  },
  {
   "cell_type": "code",
   "execution_count": null,
   "metadata": {},
   "outputs": [],
   "source": []
  }
 ],
 "metadata": {
  "kernelspec": {
   "display_name": "Python 3",
   "language": "python",
   "name": "python3"
  },
  "language_info": {
   "codemirror_mode": {
    "name": "ipython",
    "version": 3
   },
   "file_extension": ".py",
   "mimetype": "text/x-python",
   "name": "python",
   "nbconvert_exporter": "python",
   "pygments_lexer": "ipython3",
   "version": "3.8.6"
  }
 },
 "nbformat": 4,
 "nbformat_minor": 4
}
