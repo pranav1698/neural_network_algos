{
 "cells": [
  {
   "cell_type": "code",
   "execution_count": 153,
   "metadata": {},
   "outputs": [],
   "source": [
    "import numpy as np"
   ]
  },
  {
   "cell_type": "code",
   "execution_count": 154,
   "metadata": {},
   "outputs": [],
   "source": [
    "def activation(Yin):\n",
    "    m = len(Yin)\n",
    "    \n",
    "    for i in range(m):\n",
    "        if (Yin[i] > 0):\n",
    "            Yin[i] = 1\n",
    "        elif (Yin[i] <= 0):\n",
    "            Yin[i] = -1\n",
    "    return Yin"
   ]
  },
  {
   "cell_type": "code",
   "execution_count": 155,
   "metadata": {},
   "outputs": [],
   "source": [
    "def NN(X, Y, W1, B1, W2, B2):\n",
    "    Y1 = np.array([[-1, 1, 1, 1]]).T\n",
    "    Y2 = np.array([[1, 1, 1, -1]]).T\n",
    "    inputs = len(X)\n",
    "    \n",
    "    for i in range(inputs):\n",
    "        del_w = X[i] * Y1[i]\n",
    "        W1[0] += del_w\n",
    "        del_b = Y1[i]\n",
    "        B1[0] += del_b\n",
    "    \n",
    "    for i in range(inputs):\n",
    "        del_w = X[i] * Y2[i]\n",
    "        W1[1] += del_w\n",
    "        del_b = Y2[i]\n",
    "        B1[1] += del_b\n",
    "        \n",
    "    for i in range(inputs):\n",
    "        Yt = np.concatenate((Y1[i], Y2[i]), axis=0)\n",
    "        del_wf = Yt * Y[i]\n",
    "        W2 += np.array([del_wf]).T\n",
    "        del_bf = Y[i]\n",
    "        B2 += del_bf"
   ]
  },
  {
   "cell_type": "code",
   "execution_count": 156,
   "metadata": {},
   "outputs": [],
   "source": [
    "# For XOR Function\n",
    "X = np.array([[-1, -1], [1, -1], [-1, 1], [1, 1]])\n",
    "Y = np.array([[-1, 1, 1, -1]]).T"
   ]
  },
  {
   "cell_type": "code",
   "execution_count": 157,
   "metadata": {},
   "outputs": [],
   "source": [
    "# For XOR Function\n",
    "W1 = np.array([[0, 0], [0, 0]]).T\n",
    "B1 = np.array([0, 0])\n",
    "W2 = np.array([[0, 0]]).T\n",
    "B2 = np.array([0])"
   ]
  },
  {
   "cell_type": "code",
   "execution_count": 158,
   "metadata": {},
   "outputs": [],
   "source": [
    "NN(X, Y, W1, B1, W2, B2)"
   ]
  },
  {
   "cell_type": "code",
   "execution_count": 159,
   "metadata": {},
   "outputs": [
    {
     "name": "stdout",
     "output_type": "stream",
     "text": [
      "[[ 2  2]\n",
      " [-2 -2]] [2 2]\n",
      "[[2]\n",
      " [2]] [0]\n"
     ]
    }
   ],
   "source": [
    "print(W1, B1)\n",
    "print(W2, B2)"
   ]
  },
  {
   "cell_type": "code",
   "execution_count": 160,
   "metadata": {},
   "outputs": [
    {
     "name": "stdout",
     "output_type": "stream",
     "text": [
      "[-1]\n",
      "[1]\n",
      "[1]\n",
      "[-1]\n"
     ]
    }
   ],
   "source": [
    "W1 = W1.T\n",
    "\n",
    "for i in range(4):\n",
    "    Yest = activation(np.dot(X[i], W1) + B1)\n",
    "    Y = activation(np.dot(Yest, W2) + B2)\n",
    "    print(Y)"
   ]
  },
  {
   "cell_type": "code",
   "execution_count": null,
   "metadata": {},
   "outputs": [],
   "source": []
  }
 ],
 "metadata": {
  "kernelspec": {
   "display_name": "Python 3",
   "language": "python",
   "name": "python3"
  },
  "language_info": {
   "codemirror_mode": {
    "name": "ipython",
    "version": 3
   },
   "file_extension": ".py",
   "mimetype": "text/x-python",
   "name": "python",
   "nbconvert_exporter": "python",
   "pygments_lexer": "ipython3",
   "version": "3.8.6"
  }
 },
 "nbformat": 4,
 "nbformat_minor": 4
}
