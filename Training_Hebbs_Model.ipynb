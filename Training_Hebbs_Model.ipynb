{
 "cells": [
  {
   "cell_type": "code",
   "execution_count": 160,
   "metadata": {},
   "outputs": [],
   "source": [
    "import numpy as np"
   ]
  },
  {
   "cell_type": "code",
   "execution_count": 170,
   "metadata": {},
   "outputs": [],
   "source": [
    "def NN(W, B, X, Y):\n",
    "    inputs = len(X)\n",
    "    \n",
    "    for i  in range(inputs):\n",
    "        del_w = X[i]*Y[i]\n",
    "        del_b = Y[i]\n",
    "        W += np.array([del_w]).T\n",
    "        B += del_b"
   ]
  },
  {
   "cell_type": "code",
   "execution_count": 1,
   "metadata": {},
   "outputs": [],
   "source": [
    "# AND Function\n",
    "# X = np.array([[1, 1], [1, -1], [-1, 1], [-1, -1]])\n",
    "# Y = np.array([[1, -1, -1, -1]]).T\n",
    "\n",
    "# For I and J question\n",
    "# X = np.array([[1, 1, 1, -1, 1, -1, 1, 1, 1], [1, 1, 1, -1, 1, -1, 1, 1, -1]])\n",
    "# Y = np.array([[1, -1]]).T\n"
   ]
  },
  {
   "cell_type": "code",
   "execution_count": 172,
   "metadata": {},
   "outputs": [],
   "source": [
    "# AND Function\n",
    "W = np.array([[0, 0]]).T\n",
    "B = np.array([0])\n",
    "\n",
    "# For I and J question\n",
    "# W = np.array([[0, 0, 0, 0, 0, 0, 0, 0, 0]]).T\n",
    "# B = np.array([0])"
   ]
  },
  {
   "cell_type": "code",
   "execution_count": 173,
   "metadata": {},
   "outputs": [],
   "source": [
    "NN(W, B, X, Y)\n",
    "\n",
    "# NNXor(W1, B1, W2, B2, X, Y)"
   ]
  },
  {
   "cell_type": "code",
   "execution_count": 174,
   "metadata": {},
   "outputs": [
    {
     "name": "stdout",
     "output_type": "stream",
     "text": [
      "[[0 1]\n",
      " [1 0]]\n",
      "[1 1]\n",
      "[[1]\n",
      " [1]]\n",
      "[2]\n"
     ]
    }
   ],
   "source": [
    "# print(W1)\n",
    "# print(B1)\n",
    "\n",
    "# print(W2)\n",
    "# print(B2)"
   ]
  },
  {
   "cell_type": "code",
   "execution_count": null,
   "metadata": {},
   "outputs": [],
   "source": []
  }
 ],
 "metadata": {
  "kernelspec": {
   "display_name": "Python 3",
   "language": "python",
   "name": "python3"
  },
  "language_info": {
   "codemirror_mode": {
    "name": "ipython",
    "version": 3
   },
   "file_extension": ".py",
   "mimetype": "text/x-python",
   "name": "python",
   "nbconvert_exporter": "python",
   "pygments_lexer": "ipython3",
   "version": "3.8.6"
  }
 },
 "nbformat": 4,
 "nbformat_minor": 4
}
