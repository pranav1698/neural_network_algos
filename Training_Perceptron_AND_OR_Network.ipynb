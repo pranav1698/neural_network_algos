{
 "cells": [
  {
   "cell_type": "code",
   "execution_count": 131,
   "metadata": {},
   "outputs": [],
   "source": [
    "import numpy as np"
   ]
  },
  {
   "cell_type": "code",
   "execution_count": 132,
   "metadata": {},
   "outputs": [],
   "source": [
    "input_dim = 2\n",
    "hidden_dim = 0\n",
    "output_dim = 1"
   ]
  },
  {
   "cell_type": "code",
   "execution_count": 147,
   "metadata": {},
   "outputs": [],
   "source": [
    "# OR Gate Function\n",
    "X = np.array([[1, 1], [-1, 1], [1, -1], [-1, -1]])\n",
    "T = np.array([[1, 1, 1, -1]]).T"
   ]
  },
  {
   "cell_type": "code",
   "execution_count": 148,
   "metadata": {},
   "outputs": [],
   "source": [
    "def activation(Yin, threshold):\n",
    "    if (Yin > threshold):\n",
    "        return 1\n",
    "    elif (Yin>=-1*threshold and Yin <= threshold):\n",
    "        return 0\n",
    "    elif (Yin < -1*threshold):\n",
    "        return -1"
   ]
  },
  {
   "cell_type": "code",
   "execution_count": 149,
   "metadata": {},
   "outputs": [],
   "source": [
    "def NN(X, T, W, B, learning_rate, threshold):\n",
    "    inputs = len(X)\n",
    "    n = 1000\n",
    "\n",
    "    for epoch in range(n):\n",
    "        for i in range(inputs):\n",
    "            Y1 = np.dot(X[i], W) + B\n",
    "            Yest = activation(Y1, threshold)\n",
    "            \n",
    "            if(Yest != T[i]):\n",
    "                del_w = learning_rate * T[i] * X[i]\n",
    "                W += np.array([del_w]).T\n",
    "                del_b = learning_rate*T[i]\n",
    "                B += del_b"
   ]
  },
  {
   "cell_type": "code",
   "execution_count": 150,
   "metadata": {},
   "outputs": [],
   "source": [
    "W = np.array([[0.0, 0.0]]).T\n",
    "B = np.array([0.0])\n",
    "learning_rate = 0.001\n",
    "threshold =0.4"
   ]
  },
  {
   "cell_type": "code",
   "execution_count": 151,
   "metadata": {},
   "outputs": [],
   "source": [
    "NN(X, T, W, B, learning_rate, threshold)"
   ]
  },
  {
   "cell_type": "code",
   "execution_count": 152,
   "metadata": {},
   "outputs": [
    {
     "name": "stdout",
     "output_type": "stream",
     "text": [
      "[[0.4]\n",
      " [0.4]]\n",
      "[0.4]\n"
     ]
    }
   ],
   "source": [
    "print(W)\n",
    "print(B)"
   ]
  },
  {
   "cell_type": "code",
   "execution_count": 153,
   "metadata": {},
   "outputs": [
    {
     "name": "stdout",
     "output_type": "stream",
     "text": [
      "1\n",
      "1\n",
      "1\n",
      "-1\n"
     ]
    }
   ],
   "source": [
    "for i in range(4):\n",
    "    print(activation(np.dot(X[i], W) + B, 0))"
   ]
  },
  {
   "cell_type": "code",
   "execution_count": null,
   "metadata": {},
   "outputs": [],
   "source": []
  }
 ],
 "metadata": {
  "kernelspec": {
   "display_name": "Python 3",
   "language": "python",
   "name": "python3"
  },
  "language_info": {
   "codemirror_mode": {
    "name": "ipython",
    "version": 3
   },
   "file_extension": ".py",
   "mimetype": "text/x-python",
   "name": "python",
   "nbconvert_exporter": "python",
   "pygments_lexer": "ipython3",
   "version": "3.8.6"
  }
 },
 "nbformat": 4,
 "nbformat_minor": 4
}
