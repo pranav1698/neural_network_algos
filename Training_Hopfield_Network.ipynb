{
 "cells": [
  {
   "cell_type": "code",
   "execution_count": 89,
   "metadata": {},
   "outputs": [],
   "source": [
    "import numpy as np"
   ]
  },
  {
   "cell_type": "code",
   "execution_count": 90,
   "metadata": {},
   "outputs": [],
   "source": [
    "def sigmoid(Y):\n",
    "    if(Y >= 0):\n",
    "        return 1\n",
    "    else:\n",
    "        return -1"
   ]
  },
  {
   "cell_type": "code",
   "execution_count": 91,
   "metadata": {},
   "outputs": [],
   "source": [
    "def fill(X, W):\n",
    "    n =len(X)\n",
    "    \n",
    "    for i in range(n):\n",
    "        for j in range(n):\n",
    "            if(i!=j):\n",
    "                W[i][j] = X[i] * X[j]"
   ]
  },
  {
   "cell_type": "code",
   "execution_count": 92,
   "metadata": {},
   "outputs": [],
   "source": [
    "def NN(T, W):\n",
    "    res = []\n",
    "    \n",
    "    for i in range(len(T)):\n",
    "        a = 0\n",
    "        for j in range(len(W[0])):\n",
    "            if(i!=j):\n",
    "                a += T[j] * W.T[i][j]\n",
    "        res.append(sigmoid(a))\n",
    "    return res"
   ]
  },
  {
   "cell_type": "code",
   "execution_count": 93,
   "metadata": {},
   "outputs": [],
   "source": [
    "X1 = np.array([[1, -1, 1, -1, 1, -1, 1, -1]]).T\n",
    "n1 = len(X1)"
   ]
  },
  {
   "cell_type": "code",
   "execution_count": 94,
   "metadata": {},
   "outputs": [],
   "source": [
    "W1 = np.random.random((n1, n1))\n",
    "fill(X1, W1)"
   ]
  },
  {
   "cell_type": "code",
   "execution_count": 95,
   "metadata": {},
   "outputs": [],
   "source": [
    "X2 = np.array([[1, 1, 1, 1, -1, -1, -1, -1]]).T\n",
    "n2 = len(X2)"
   ]
  },
  {
   "cell_type": "code",
   "execution_count": 96,
   "metadata": {},
   "outputs": [],
   "source": [
    "W2 = np.random.random((n2, n2))\n",
    "fill(X2, W2)"
   ]
  },
  {
   "cell_type": "code",
   "execution_count": 97,
   "metadata": {},
   "outputs": [
    {
     "data": {
      "text/plain": [
       "array([[ 1.68129854,  0.        ,  2.        ,  0.        ,  0.        ,\n",
       "        -2.        ,  0.        , -2.        ],\n",
       "       [ 0.        ,  1.43535755,  0.        ,  2.        , -2.        ,\n",
       "         0.        , -2.        ,  0.        ],\n",
       "       [ 2.        ,  0.        ,  1.49332282,  0.        ,  0.        ,\n",
       "        -2.        ,  0.        , -2.        ],\n",
       "       [ 0.        ,  2.        ,  0.        ,  0.06998147, -2.        ,\n",
       "         0.        , -2.        ,  0.        ],\n",
       "       [ 0.        , -2.        ,  0.        , -2.        ,  0.93421523,\n",
       "         0.        ,  2.        ,  0.        ],\n",
       "       [-2.        ,  0.        , -2.        ,  0.        ,  0.        ,\n",
       "         1.11747304,  0.        ,  2.        ],\n",
       "       [ 0.        , -2.        ,  0.        , -2.        ,  2.        ,\n",
       "         0.        ,  0.87490893,  0.        ],\n",
       "       [-2.        ,  0.        , -2.        ,  0.        ,  0.        ,\n",
       "         2.        ,  0.        ,  0.6475053 ]])"
      ]
     },
     "execution_count": 97,
     "metadata": {},
     "output_type": "execute_result"
    }
   ],
   "source": [
    "W = W1 + W2\n",
    "W"
   ]
  },
  {
   "cell_type": "code",
   "execution_count": 98,
   "metadata": {},
   "outputs": [
    {
     "name": "stdout",
     "output_type": "stream",
     "text": [
      "[1, -1, 1, -1, 1, -1, 1, -1]\n"
     ]
    }
   ],
   "source": [
    "T1 = np.array([[1, -1, 1, -1, 1, -1, 1, -1]]).T\n",
    "res1 = NN(T1, W)\n",
    "print(res1)"
   ]
  },
  {
   "cell_type": "code",
   "execution_count": 99,
   "metadata": {},
   "outputs": [
    {
     "name": "stdout",
     "output_type": "stream",
     "text": [
      "[1, 1, 1, 1, -1, -1, -1, -1]\n"
     ]
    }
   ],
   "source": [
    "T2 = np.array([[1, 1, 1, 1, -1, -1, -1, -1]]).T\n",
    "res2 = NN(T2, W)\n",
    "print(res2)"
   ]
  },
  {
   "cell_type": "code",
   "execution_count": 100,
   "metadata": {},
   "outputs": [
    {
     "name": "stdout",
     "output_type": "stream",
     "text": [
      "[1, -1, 1, -1, 1, -1, 1, -1]\n"
     ]
    }
   ],
   "source": [
    "T3 = np.array([[1, 1, 1, -1, 1, -1, 1, -1]]).T\n",
    "res3 = NN(T3, W)\n",
    "print(res3)"
   ]
  },
  {
   "cell_type": "code",
   "execution_count": 101,
   "metadata": {},
   "outputs": [],
   "source": [
    "# if six elements present in the test input, is equal to either trained inputs\n",
    "# then, the corresponding input will the result of the memorized nwtwork"
   ]
  }
 ],
 "metadata": {
  "kernelspec": {
   "display_name": "Python 3",
   "language": "python",
   "name": "python3"
  },
  "language_info": {
   "codemirror_mode": {
    "name": "ipython",
    "version": 3
   },
   "file_extension": ".py",
   "mimetype": "text/x-python",
   "name": "python",
   "nbconvert_exporter": "python",
   "pygments_lexer": "ipython3",
   "version": "3.8.6"
  }
 },
 "nbformat": 4,
 "nbformat_minor": 4
}
