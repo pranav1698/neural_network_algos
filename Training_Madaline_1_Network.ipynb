{
 "cells": [
  {
   "cell_type": "code",
   "execution_count": 120,
   "metadata": {},
   "outputs": [],
   "source": [
    "import numpy as np"
   ]
  },
  {
   "cell_type": "code",
   "execution_count": 121,
   "metadata": {},
   "outputs": [],
   "source": [
    "def activation(Yin):\n",
    "    m = len(Yin)\n",
    "    \n",
    "    for i in range(m):\n",
    "        if (Yin[i] >= 0):\n",
    "            Yin[i] = 1\n",
    "        elif (Yin[i] < 0):\n",
    "            Yin[i] = -1\n",
    "    return Yin"
   ]
  },
  {
   "cell_type": "code",
   "execution_count": 122,
   "metadata": {},
   "outputs": [],
   "source": [
    "def NN(X, T, W1, B1, W2, B2, learning_rate):\n",
    "    num_epochs = 10\n",
    "    \n",
    "    for epoch in range(num_epochs):\n",
    "        for i in range(len(X)):\n",
    "            Zin1 = np.dot(X[i], np.array([W1[0]]).T) + B1[0]\n",
    "            Z1 = activation(Zin1).astype(int)\n",
    "            Zin2 = np.dot(X[i], np.array([W1[1]]).T) + B1[1]\n",
    "            Z2 = activation(Zin2).astype(int)\n",
    "            \n",
    "            Z = np.concatenate((Z1, Z2), axis=0)\n",
    "            Yin = np.dot(Z, W2) + B2\n",
    "            Y = activation(Yin).astype(int)\n",
    "            \n",
    "            if(Y != T[i]):\n",
    "                if(T[i] == 1):\n",
    "                    del_w1 = learning_rate * (1 - Zin1) * X[i]\n",
    "                    del_b1 = learning_rate * (1 - Zin1)\n",
    "                    W1[0] += del_w1\n",
    "                    B1[0] += del_b1\n",
    "                    \n",
    "                    del_w2 = learning_rate * (1 - Zin2) * X[i]\n",
    "                    del_b2 = learning_rate * (1 - Zin2)\n",
    "                    W1[1] += del_w2\n",
    "                    B1[1] += del_b2\n",
    "                else:\n",
    "                    del_w1 = learning_rate * (-1 - Zin1) * X[i]\n",
    "                    del_b1 = learning_rate * (-1 - Zin1)\n",
    "                    W1[0] += del_w1\n",
    "                    B1[0] += del_b1\n",
    "                    \n",
    "                    del_w2 = learning_rate * (-1-Zin2) * X[i]\n",
    "                    del_b2 = learning_rate * (-1 - Zin2)\n",
    "                    W1[1] += del_w2\n",
    "                    B1[1] += del_b2"
   ]
  },
  {
   "cell_type": "code",
   "execution_count": 123,
   "metadata": {},
   "outputs": [],
   "source": [
    "X = np.array([[1, 1], [1, -1], [-1, -1]])\n",
    "T = np.array([[-1, 1, -1]]).T"
   ]
  },
  {
   "cell_type": "code",
   "execution_count": 124,
   "metadata": {},
   "outputs": [],
   "source": [
    "W1 = np.array([[0.0, 0.0], [0.0, 0.0]]).T\n",
    "B1 = np.array([0.0, 0.0])\n",
    "W2 = np.array([[0.5, 0.5]]).T\n",
    "B2 = np.array([0.5])\n",
    "learning_rate = 0.001"
   ]
  },
  {
   "cell_type": "code",
   "execution_count": 125,
   "metadata": {},
   "outputs": [],
   "source": [
    "NN(X, T, W1, B1, W2, B2, learning_rate)"
   ]
  },
  {
   "cell_type": "code",
   "execution_count": 126,
   "metadata": {},
   "outputs": [
    {
     "name": "stdout",
     "output_type": "stream",
     "text": [
      "[[ 0.002  0.002]\n",
      " [-0.002 -0.002]] [-0.002 -0.002]\n"
     ]
    }
   ],
   "source": [
    "W1 = W1.T\n",
    "\n",
    "print(W1, B1)"
   ]
  },
  {
   "cell_type": "code",
   "execution_count": 127,
   "metadata": {},
   "outputs": [
    {
     "name": "stdout",
     "output_type": "stream",
     "text": [
      "[-1]\n",
      "[1]\n",
      "[-1]\n"
     ]
    }
   ],
   "source": [
    "for i in range(len(X)):\n",
    "    Z = activation(np.dot(X[i], W1) + B1)\n",
    "    Y = activation(np.dot(Z, W2) + B2).astype(int)\n",
    "    print(Y)"
   ]
  },
  {
   "cell_type": "code",
   "execution_count": null,
   "metadata": {},
   "outputs": [],
   "source": []
  }
 ],
 "metadata": {
  "kernelspec": {
   "display_name": "Python 3",
   "language": "python",
   "name": "python3"
  },
  "language_info": {
   "codemirror_mode": {
    "name": "ipython",
    "version": 3
   },
   "file_extension": ".py",
   "mimetype": "text/x-python",
   "name": "python",
   "nbconvert_exporter": "python",
   "pygments_lexer": "ipython3",
   "version": "3.8.6"
  }
 },
 "nbformat": 4,
 "nbformat_minor": 4
}
