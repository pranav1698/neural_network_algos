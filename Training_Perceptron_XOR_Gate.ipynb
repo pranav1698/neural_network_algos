{
 "cells": [
  {
   "cell_type": "code",
   "execution_count": 227,
   "metadata": {},
   "outputs": [],
   "source": [
    "import numpy as np"
   ]
  },
  {
   "cell_type": "code",
   "execution_count": 228,
   "metadata": {},
   "outputs": [],
   "source": [
    "# XOR Gate Function\n",
    "X = np.array([[1, 1], [-1, 1], [1, -1], [-1, -1]])\n",
    "T = np.array([[-1, 1, 1, -1]]).T"
   ]
  },
  {
   "cell_type": "code",
   "execution_count": 229,
   "metadata": {},
   "outputs": [],
   "source": [
    "def activationNN(Yin, threshold):\n",
    "    if (Yin > threshold):\n",
    "        return 1\n",
    "    elif (Yin>=-1*threshold and Yin <= threshold):\n",
    "        return 0\n",
    "    elif (Yin < -1*threshold):\n",
    "        return -1"
   ]
  },
  {
   "cell_type": "code",
   "execution_count": 230,
   "metadata": {},
   "outputs": [],
   "source": [
    "def activation(Yin, threshold):\n",
    "    m = len(Yin)\n",
    "    \n",
    "    for i in range(m):\n",
    "        if (Yin[i] > threshold):\n",
    "            Yin[i] = 1\n",
    "        elif (Yin[i]>=-1*threshold and Yin[i] <= threshold):\n",
    "            Yin[i] = 0\n",
    "        elif (Yin[i] < -1*threshold):\n",
    "            Yin[i] = -1\n",
    "    return Yin"
   ]
  },
  {
   "cell_type": "code",
   "execution_count": 231,
   "metadata": {},
   "outputs": [],
   "source": [
    "def NN(X, T, W1, B1, W2, B2, learning_rate, threshold):\n",
    "    Y1 = np.array([[1, 1, 1, -1]]).T\n",
    "    Y2 = np.array([[-1, 1, 1, 1]]).T\n",
    "    inputs = len(X)\n",
    "    epochs = 10000\n",
    "    \n",
    "    for e in range(epochs):\n",
    "        for i in range(inputs):\n",
    "            Yest1 = activationNN(np.dot(X[i], np.array([W1[0]]).T) + B1[0], threshold)\n",
    "            if(Yest1 != Y1[i]):\n",
    "                del_w1 = learning_rate * Y1[i] * X[i]\n",
    "                W1[0] += del_w1\n",
    "                del_b1 = learning_rate * Y1[i]\n",
    "                B1[0] += del_b1\n",
    "                \n",
    "            Yest2 = activationNN(np.dot(X[i], np.array([W1[1]]).T) + B1[1], threshold)\n",
    "            if(Yest2 != Y2[i]):\n",
    "                del_w2 = learning_rate * Y2[i] * X[i]\n",
    "                W1[1] += del_w2\n",
    "                del_b2 = learning_rate * Y2[i]\n",
    "                B1[1] += del_b2\n",
    "            \n",
    "            Yt = np.concatenate((Y1[i], Y2[i]), axis=0)\n",
    "            Yestf = activationNN(np.dot(Yt, W2) + B2, threshold)\n",
    "            if(Yestf != T[i]):\n",
    "                del_wf = learning_rate * T[i] * Yt\n",
    "                W2 += np.array([del_wf]).T\n",
    "                del_b = learning_rate * T[i]\n",
    "                B2 += del_b"
   ]
  },
  {
   "cell_type": "code",
   "execution_count": 232,
   "metadata": {},
   "outputs": [],
   "source": [
    "W1 = np.array([[0.0, 0.0], [0.0, 0.0]]).T\n",
    "B1 = np.array([0.0, 0.0])\n",
    "W2 = np.array([[0.0, 0.0]]).T\n",
    "B2 = np.array([0.0])\n",
    "learning_rate = 0.001\n",
    "threshold = 0.4"
   ]
  },
  {
   "cell_type": "code",
   "execution_count": 233,
   "metadata": {},
   "outputs": [],
   "source": [
    "NN(X, T, W1, B1, W2, B2, learning_rate, threshold)"
   ]
  },
  {
   "cell_type": "code",
   "execution_count": 234,
   "metadata": {},
   "outputs": [
    {
     "name": "stdout",
     "output_type": "stream",
     "text": [
      "[[ 0.4  0.4]\n",
      " [-0.4 -0.4]] [0.4 0.4]\n",
      "[[0.4]\n",
      " [0.4]] [-0.4]\n"
     ]
    }
   ],
   "source": [
    "print(W1, B1)\n",
    "print(W2, B2)"
   ]
  },
  {
   "cell_type": "code",
   "execution_count": 235,
   "metadata": {},
   "outputs": [
    {
     "name": "stdout",
     "output_type": "stream",
     "text": [
      "[-1.]\n",
      "[1.]\n",
      "[1.]\n",
      "[-1.]\n"
     ]
    }
   ],
   "source": [
    "W1 = W1.T\n",
    "\n",
    "for i in range(len(X)):\n",
    "    Yest1 = activation(np.dot(X[i], W1) + B1, threshold)\n",
    "    Yest2 = activation(np.dot(Yest1, W2) + B2, threshold)\n",
    "    print(Yest2)"
   ]
  }
 ],
 "metadata": {
  "kernelspec": {
   "display_name": "Python 3",
   "language": "python",
   "name": "python3"
  },
  "language_info": {
   "codemirror_mode": {
    "name": "ipython",
    "version": 3
   },
   "file_extension": ".py",
   "mimetype": "text/x-python",
   "name": "python",
   "nbconvert_exporter": "python",
   "pygments_lexer": "ipython3",
   "version": "3.8.6"
  }
 },
 "nbformat": 4,
 "nbformat_minor": 4
}
