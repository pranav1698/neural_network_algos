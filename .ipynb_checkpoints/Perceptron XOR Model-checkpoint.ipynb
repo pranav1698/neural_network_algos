{
 "cells": [
  {
   "cell_type": "code",
   "execution_count": 35,
   "metadata": {},
   "outputs": [],
   "source": [
    "import numpy as np\n",
    "from random import random"
   ]
  },
  {
   "cell_type": "code",
   "execution_count": 36,
   "metadata": {},
   "outputs": [],
   "source": [
    "def activation(Yin, threshold):\n",
    "    for i in range(len(Yin)):\n",
    "        if(Yin[i] > threshold):\n",
    "            Yin[i] = 1\n",
    "        elif(Yin[i]>=-1*threshold and Yin[i]<=threshold):\n",
    "            Yin[i]=0\n",
    "        elif(Yin[i]<-1*threshold):\n",
    "            Yin[i] = -1\n",
    "            \n",
    "    return Yin"
   ]
  },
  {
   "cell_type": "code",
   "execution_count": 37,
   "metadata": {},
   "outputs": [],
   "source": [
    "def NN(X, T, learning_rate, threshold, W, B):\n",
    "    input_sets = X.shape[0]\n",
    "    num_epochs = 10000\n",
    "    epoch_n = 0\n",
    "    i=0\n",
    "    flag = False\n",
    "    \n",
    "    for epoch_n in range(num_epochs):\n",
    "        for i in range(input_sets):\n",
    "            Yin = np.dot(X[i, :], W) + B\n",
    "            Y = activation(Yin, threshold).astype(int)\n",
    "    \n",
    "            if(Y == T[i]):\n",
    "                flag = True\n",
    "                break\n",
    "            \n",
    "            W += learning_rate * T[i][0] * np.array([X[i, :]]).T\n",
    "            B += learning_rate * T[i][0]\n",
    "        if(flag):\n",
    "            break\n",
    "\n",
    "    return B"
   ]
  },
  {
   "cell_type": "code",
   "execution_count": 38,
   "metadata": {},
   "outputs": [],
   "source": [
    "X = np.array([[-1, -1],[-1, 1],[1, -1],[1,1]])\n",
    "YandT = np.array([[-1, -1, -1, 1]]).T\n",
    "YorT = np.array([[-1, 1, 1, 1]]).T"
   ]
  },
  {
   "cell_type": "code",
   "execution_count": 39,
   "metadata": {},
   "outputs": [],
   "source": [
    "learning_rate = 1\n",
    "threshold = 0"
   ]
  },
  {
   "cell_type": "code",
   "execution_count": 40,
   "metadata": {},
   "outputs": [],
   "source": [
    "W1 = np.array([[0, 0]]).T\n",
    "W2 = np.array([[0, 0]]).T\n",
    "B1 = 0\n",
    "B2 = 0"
   ]
  },
  {
   "cell_type": "code",
   "execution_count": 41,
   "metadata": {},
   "outputs": [],
   "source": [
    "B1 = NN(X, YandT, learning_rate, threshold, W1, B1)"
   ]
  },
  {
   "cell_type": "code",
   "execution_count": 42,
   "metadata": {},
   "outputs": [],
   "source": [
    "B2 = NN(X, YorT, learning_rate, threshold, W2, B2)"
   ]
  },
  {
   "cell_type": "code",
   "execution_count": 47,
   "metadata": {},
   "outputs": [],
   "source": [
    "Xnot = activation(np.dot(X, W1) + B1, threshold).astype(int)\n",
    "YnotT = np.array(([[1, 1, 1, -1]])).T\n",
    "W3 = np.array([[0]]).T\n",
    "B3 = 0\n",
    "B3 = NN(Xnot, YnotT, learning_rate, threshold, W3, B3)"
   ]
  },
  {
   "cell_type": "code",
   "execution_count": 49,
   "metadata": {},
   "outputs": [
    {
     "name": "stdout",
     "output_type": "stream",
     "text": [
      "[[ 1 -1]\n",
      " [ 1  1]\n",
      " [ 1  1]\n",
      " [-1  1]]\n"
     ]
    }
   ],
   "source": [
    "YnotT = activation(np.dot(Xnot, W3) + B3, threshold).astype(int)\n",
    "Yor = activation(np.dot(X, W2) + B2, threshold).astype(int)\n",
    "\n",
    "X1 = np.hstack((YnotT, Yor))\n",
    "Y1 = np.array([[-1, 1, 1, -1]]).T\n",
    "W4 = np.array([[0, 0]]).T\n",
    "B4 = 0\n",
    "\n",
    "B4 = NN(X1, Y1, learning_rate, threshold, W4, B4) "
   ]
  },
  {
   "cell_type": "code",
   "execution_count": 50,
   "metadata": {},
   "outputs": [
    {
     "name": "stdout",
     "output_type": "stream",
     "text": [
      "W1 and B1\n",
      "[[1]\n",
      " [1]]\n",
      "-1\n",
      "W2 and B2\n",
      "[[1]\n",
      " [1]]\n",
      "1\n",
      "W3 and B3\n",
      "[[-1]]\n",
      "1\n",
      "W4 and B4\n",
      "[[0]\n",
      " [2]]\n",
      "0\n"
     ]
    }
   ],
   "source": [
    "print(\"W1 and B1\")\n",
    "print(W1)\n",
    "print(B1)\n",
    "print(\"W2 and B2\")\n",
    "print(W2)\n",
    "print(B2)\n",
    "print(\"W3 and B3\")\n",
    "print(W3)\n",
    "print(B3)\n",
    "print(\"W4 and B4\")\n",
    "print(W4)\n",
    "print(B4)"
   ]
  },
  {
   "cell_type": "code",
   "execution_count": null,
   "metadata": {},
   "outputs": [],
   "source": [
    "    "
   ]
  }
 ],
 "metadata": {
  "kernelspec": {
   "display_name": "Python 3",
   "language": "python",
   "name": "python3"
  },
  "language_info": {
   "codemirror_mode": {
    "name": "ipython",
    "version": 3
   },
   "file_extension": ".py",
   "mimetype": "text/x-python",
   "name": "python",
   "nbconvert_exporter": "python",
   "pygments_lexer": "ipython3",
   "version": "3.8.5"
  }
 },
 "nbformat": 4,
 "nbformat_minor": 4
}
