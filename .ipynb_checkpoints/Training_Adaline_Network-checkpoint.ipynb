{
 "cells": [
  {
   "cell_type": "code",
   "execution_count": 78,
   "metadata": {},
   "outputs": [],
   "source": [
    "# Importing python libraries required to setup the environment\n",
    "import numpy as np\n",
    "import matplotlib.pyplot as plt"
   ]
  },
  {
   "cell_type": "code",
   "execution_count": 79,
   "metadata": {},
   "outputs": [],
   "source": [
    "def NN(X, Y, W, B, learning_rate, epochs, errors):\n",
    "    num_epoch = 1000\n",
    "    \n",
    "    for epoch in range(num_epoch):\n",
    "        epochs.append(epoch)\n",
    "        error = 0\n",
    "        for i in range(len(X)):\n",
    "            Yin = np.dot(X[i], W) + B\n",
    "            del_w  = learning_rate * (Y[i] - Yin) * X[i]\n",
    "            del_b = learning_rate * (Y[i] - Yin)\n",
    "            W += np.array([del_w]).T\n",
    "            B += del_b\n",
    "            error += pow((Y[i]-Yin), 2)\n",
    "        errors.append(error)    "
   ]
  },
  {
   "cell_type": "code",
   "execution_count": 80,
   "metadata": {},
   "outputs": [],
   "source": [
    "# For XOR Function\n",
    "X = np.array([[1, 1], [1, -1], [-1, 1], [-1, -1]])\n",
    "T = np.array([[-1, 1, -1, -1]]).T"
   ]
  },
  {
   "cell_type": "code",
   "execution_count": 81,
   "metadata": {},
   "outputs": [],
   "source": [
    "# For XOR Function\n",
    "W = np.array([[0.2, 0.2]]).T\n",
    "B  = np.array([0.2])"
   ]
  },
  {
   "cell_type": "code",
   "execution_count": 82,
   "metadata": {},
   "outputs": [],
   "source": [
    "learning_rate = 0.2\n",
    "epochs = []\n",
    "errors = []"
   ]
  },
  {
   "cell_type": "code",
   "execution_count": 83,
   "metadata": {},
   "outputs": [],
   "source": [
    "NN(X, T, W, B,learning_rate, epochs, errors)"
   ]
  },
  {
   "cell_type": "code",
   "execution_count": 84,
   "metadata": {},
   "outputs": [
    {
     "data": {
      "image/png": "[encoded data removed]",
      "text/plain": [
       "<Figure size 432x288 with 1 Axes>"
      ]
     },
     "metadata": {
      "needs_background": "light"
     },
     "output_type": "display_data"
    }
   ],
   "source": [
    "# Printing the plot  between number of epochs and the errors of individual epochs\n",
    "x = np.array(epochs)\n",
    "y = np.array(errors)\n",
    "\n",
    "plt.plot(x, y, linestyle='-', marker=\".\")\n",
    "plt.xlabel(\"Number of Epochs\")\n",
    "plt.ylabel(\"Error during individual Epoch\")\n",
    "plt.yscale('linear')\n",
    "plt.show()"
   ]
  },
  {
   "cell_type": "code",
   "execution_count": 85,
   "metadata": {},
   "outputs": [
    {
     "name": "stdout",
     "output_type": "stream",
     "text": [
      "[[ 0.57142857]\n",
      " [-0.35714286]] [-0.5]\n"
     ]
    }
   ],
   "source": [
    "print(W, B)"
   ]
  },
  {
   "cell_type": "code",
   "execution_count": null,
   "metadata": {},
   "outputs": [],
   "source": []
  }
 ],
 "metadata": {
  "kernelspec": {
   "display_name": "Python 3",
   "language": "python",
   "name": "python3"
  },
  "language_info": {
   "codemirror_mode": {
    "name": "ipython",
    "version": 3
   },
   "file_extension": ".py",
   "mimetype": "text/x-python",
   "name": "python",
   "nbconvert_exporter": "python",
   "pygments_lexer": "ipython3",
   "version": "3.8.6"
  }
 },
 "nbformat": 4,
 "nbformat_minor": 4
}
