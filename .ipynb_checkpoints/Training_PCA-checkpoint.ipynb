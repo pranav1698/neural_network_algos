{
 "cells": [
  {
   "cell_type": "code",
   "execution_count": 150,
   "metadata": {},
   "outputs": [],
   "source": [
    "import numpy as np"
   ]
  },
  {
   "cell_type": "code",
   "execution_count": 151,
   "metadata": {},
   "outputs": [],
   "source": [
    "input_dim = 2"
   ]
  },
  {
   "cell_type": "code",
   "execution_count": 152,
   "metadata": {},
   "outputs": [],
   "source": [
    "X = np.array([[2.5, 2.4], [0.5, 0.7], [2.2, 2.9], [1.9, 2.2], [3.1, 3], [2.3, 2.7], [2, 1.6], [1, 1.1], [1.5, 1.6], [1.1, 0.9]])\n",
    "n = len(X)"
   ]
  },
  {
   "cell_type": "code",
   "execution_count": 153,
   "metadata": {},
   "outputs": [],
   "source": [
    "Xbar = []\n",
    "\n",
    "for i  in range(input_dim):\n",
    "    xbar = np.mean(X.T[i])\n",
    "    Xbar.append(xbar)"
   ]
  },
  {
   "cell_type": "code",
   "execution_count": 154,
   "metadata": {},
   "outputs": [],
   "source": [
    "Xdiff = X - Xbar"
   ]
  },
  {
   "cell_type": "code",
   "execution_count": 155,
   "metadata": {},
   "outputs": [],
   "source": [
    "COV = np.random.random((input_dim, input_dim))\n",
    "\n",
    "for i in range(input_dim):\n",
    "    for j in range(input_dim):\n",
    "        var = 0\n",
    "        \n",
    "        for l in range(n):\n",
    "            var += Xdiff[l][i] * Xdiff[l][j]\n",
    "        COV[i][j] = var / (len(X) - 1)"
   ]
  },
  {
   "cell_type": "code",
   "execution_count": 156,
   "metadata": {},
   "outputs": [
    {
     "data": {
      "text/plain": [
       "array([[0.61655556, 0.61544444],\n",
       "       [0.61544444, 0.71655556]])"
      ]
     },
     "execution_count": 156,
     "metadata": {},
     "output_type": "execute_result"
    }
   ],
   "source": [
    "COV"
   ]
  },
  {
   "cell_type": "code",
   "execution_count": 157,
   "metadata": {},
   "outputs": [
    {
     "data": {
      "text/plain": [
       "(array([0.0490834 , 1.28402771]),\n",
       " array([[-0.73517866, -0.6778734 ],\n",
       "        [ 0.6778734 , -0.73517866]]))"
      ]
     },
     "execution_count": 157,
     "metadata": {},
     "output_type": "execute_result"
    }
   ],
   "source": [
    "egStuff = np.linalg.eig(COV)\n",
    "egStuff"
   ]
  },
  {
   "cell_type": "code",
   "execution_count": 158,
   "metadata": {},
   "outputs": [],
   "source": [
    "egValues = egStuff[0]\n",
    "egVectors = egStuff[1]\n",
    "\n",
    "dtype = [('eigenValue', float), ('eigenVector', np.ndarray)]\n",
    "egArray = []\n",
    "for i in range(len(egValues)):\n",
    "    egArray.append((egValues[i], egVectors.T[i]))\n",
    "\n",
    "egArray = np.array(egArray, dtype=dtype)"
   ]
  },
  {
   "cell_type": "code",
   "execution_count": 159,
   "metadata": {},
   "outputs": [],
   "source": [
    "egArray = np.sort(egArray, order=\"eigenValue\")[::-1]"
   ]
  },
  {
   "cell_type": "code",
   "execution_count": 171,
   "metadata": {},
   "outputs": [],
   "source": [
    "limit = 1\n",
    "msegV = []\n",
    "\n",
    "for i in range(limit):\n",
    "    msegV.append(egArray[i][1])\n",
    "msegV = np.array(msegV)"
   ]
  },
  {
   "cell_type": "code",
   "execution_count": 178,
   "metadata": {},
   "outputs": [
    {
     "data": {
      "text/plain": [
       "array([[-3.45911227],\n",
       "       [-0.85356176],\n",
       "       [-3.62333958],\n",
       "       [-2.9053525 ],\n",
       "       [-4.3069435 ],\n",
       "       [-3.54409119],\n",
       "       [-2.53203265],\n",
       "       [-1.48656992],\n",
       "       [-2.19309595],\n",
       "       [-1.40732153]])"
      ]
     },
     "execution_count": 178,
     "metadata": {},
     "output_type": "execute_result"
    }
   ],
   "source": [
    "Xsuff = np.dot(X, msegV.T)\n",
    "Xsuff"
   ]
  }
 ],
 "metadata": {
  "kernelspec": {
   "display_name": "Python 3",
   "language": "python",
   "name": "python3"
  },
  "language_info": {
   "codemirror_mode": {
    "name": "ipython",
    "version": 3
   },
   "file_extension": ".py",
   "mimetype": "text/x-python",
   "name": "python",
   "nbconvert_exporter": "python",
   "pygments_lexer": "ipython3",
   "version": "3.8.6"
  }
 },
 "nbformat": 4,
 "nbformat_minor": 4
}
