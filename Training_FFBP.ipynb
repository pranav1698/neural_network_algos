{
 "cells": [
  {
   "cell_type": "code",
   "execution_count": 65,
   "metadata": {},
   "outputs": [],
   "source": [
    "import numpy as np"
   ]
  },
  {
   "cell_type": "code",
   "execution_count": 66,
   "metadata": {},
   "outputs": [],
   "source": [
    "def sigmoid(X):\n",
    "    return 1/(1 + np.exp(-X))"
   ]
  },
  {
   "cell_type": "code",
   "execution_count": 158,
   "metadata": {},
   "outputs": [],
   "source": [
    "def NN(X, T, W1, W2):\n",
    "    num_epoch=10000\n",
    "    for epoch in range(num_epoch):\n",
    "        l1_output = sigmoid(np.dot(X, W1))\n",
    "        l2_output = sigmoid(np.dot(l1_output, W2))\n",
    "\n",
    "        l2_err = T - l2_output\n",
    "        l2_delta = l2_err * l2_output * (1 - l2_output)\n",
    "\n",
    "        l1_err = np.dot(l2_delta, W2.T)\n",
    "        l1_delta = l1_err * l1_output * (1 - l1_output)\n",
    "\n",
    "        W1 += np.dot(X.T, l1_delta)\n",
    "        W2 += np.dot(l1_output.T, l2_delta)"
   ]
  },
  {
   "cell_type": "code",
   "execution_count": 159,
   "metadata": {},
   "outputs": [],
   "source": [
    "X = np.array([[0,0], [1,0], [0, 1], [1, 1]])\n",
    "T = np.array([[0, 1, 1, 0]]).T"
   ]
  },
  {
   "cell_type": "code",
   "execution_count": 160,
   "metadata": {},
   "outputs": [],
   "source": [
    "input_dim = 2\n",
    "hidden_dim = 6\n",
    "output_dim = 1"
   ]
  },
  {
   "cell_type": "code",
   "execution_count": 161,
   "metadata": {},
   "outputs": [],
   "source": [
    "W1 = np.random.random((input_dim, hidden_dim))\n",
    "W2 = np.random.random((hidden_dim, output_dim))"
   ]
  },
  {
   "cell_type": "code",
   "execution_count": 162,
   "metadata": {},
   "outputs": [],
   "source": [
    "NN(X, T, W1, W2)"
   ]
  },
  {
   "cell_type": "code",
   "execution_count": 163,
   "metadata": {},
   "outputs": [
    {
     "name": "stdout",
     "output_type": "stream",
     "text": [
      "[[-1.63248741  3.44317354  5.27779711 -3.27064125  5.52144803  4.72955765]\n",
      " [ 2.19974788  3.41273237 -2.76813978  6.28836372  5.48154651 -2.51881554]]\n",
      "[[-4.51675955]\n",
      " [ 4.51324204]\n",
      " [-6.6413189 ]\n",
      " [-8.61107958]\n",
      " [13.43165988]\n",
      " [-5.91648933]]\n"
     ]
    }
   ],
   "source": [
    "print(W1)\n",
    "print(W2)"
   ]
  },
  {
   "cell_type": "code",
   "execution_count": 164,
   "metadata": {},
   "outputs": [
    {
     "name": "stdout",
     "output_type": "stream",
     "text": [
      "   X    |   Z   \n",
      "--------|--------\n",
      "  0 0   |   0\n",
      "  1 0   |   1\n",
      "  0 1   |   1\n",
      "  1 1   |   0\n"
     ]
    }
   ],
   "source": [
    "# Verifying the output using the Neural Network and each input \n",
    "P1 = np.dot(X, W1)\n",
    "Y = sigmoid(P1)\n",
    "P2 = np.dot(Y, W2)\n",
    "Z = sigmoid(P2)\n",
    "\n",
    "# Normalizing the output \n",
    "Z = (Z > 0.5).astype(int)\n",
    "\n",
    "# Printing the Input and Predicted Output Table\n",
    "print(\"   X    |   Z   \")\n",
    "print(\"--------|--------\")\n",
    "for i in range(X.shape[0]):\n",
    "  print(\"  \", end='')\n",
    "  for j in range(X.shape[1]):\n",
    "    print(X[i][j], end=' ')\n",
    "  print(\"  |   \", end='')\n",
    "  print(Z[i][0])"
   ]
  },
  {
   "cell_type": "code",
   "execution_count": null,
   "metadata": {},
   "outputs": [],
   "source": []
  }
 ],
 "metadata": {
  "kernelspec": {
   "display_name": "Python 3",
   "language": "python",
   "name": "python3"
  },
  "language_info": {
   "codemirror_mode": {
    "name": "ipython",
    "version": 3
   },
   "file_extension": ".py",
   "mimetype": "text/x-python",
   "name": "python",
   "nbconvert_exporter": "python",
   "pygments_lexer": "ipython3",
   "version": "3.8.6"
  }
 },
 "nbformat": 4,
 "nbformat_minor": 4
}
